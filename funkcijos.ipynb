{
 "cells": [
  {
   "cell_type": "code",
   "execution_count": null,
   "metadata": {},
   "outputs": [],
   "source": [
    "# Parašyti funkciją, kurioje sugeneruojamos dvi skaičių sekos\n",
    "# (jos gali būti skirtingo dydžio), programa turi grąžinti sąrašą\n",
    "# skaičių, kurie sutampa tarp dviejų sugeneruotu sąrašų,\n",
    "# galutiniame sąraše neturi būti skaičių dublikatų. PVZ: x =[1, 1,\n",
    "# 2, 3, 1] y = [1, 3, 5, 6] atsakymas = [1,3]\n",
    "\n",
    "def bendri_elementai(list1, list2):\n",
    "  \"\"\"\n",
    "  Funkcija, kuri suranda bendrus elementus dviejuose sąrašuose.\n",
    "\n",
    "  Args:\n",
    "    list1: Pirmasis skaičių sąrašas.\n",
    "    list2: Antrasis skaičių sąrašas.\n",
    "\n",
    "  Returns:\n",
    "    Sąrašas bendrų elementų be dublikatų.\n",
    "  \"\"\"\n",
    "\n",
    "  # Konvertuojame abu sąrašus į aibes, kad pašalinti dublikatus\n",
    "  set1 = set(list1)\n",
    "  set2 = set(list2)\n",
    "\n",
    "  # Randame sankirtą (bendrus elementus) tarp aibių\n",
    "  bendri = set1.intersection(set2)\n",
    "\n",
    "  # Konvertuojame atgal į sąrašą ir grąžiname rezultatą\n",
    "  return list(bendri)\n",
    "\n",
    "# Pavyzdžiai:\n",
    "x = [1, 1, 2, 3, 1]\n",
    "y = [1, 3, 5, 6]\n",
    "print(bendri_elementai(x, y))  # Rezultatas: [1, 3]\n",
    "\n",
    "# Kitas pavyzdys\n",
    "a = [2, 4, 6, 8]\n",
    "b = [3, 5, 7, 9]\n",
    "print(bendri_elementai(a, b))  # Rezultatas: []"
   ]
  },
  {
   "cell_type": "code",
   "execution_count": null,
   "metadata": {},
   "outputs": [
    {
     "name": "stdout",
     "output_type": "stream",
     "text": [
      "3.0\n",
      "2.605171084697352\n"
     ]
    }
   ],
   "source": [
    "def vidurkis(skaiciai, vidurkio_tipas=\"aritmetinis\"):\n",
    "  # \"\"\"\n",
    "  # Skaičiuoja aritmetinį arba geometrinį vidurkį iš pateiktų skaičių.\n",
    "\n",
    "  # Args:\n",
    "  #   skaiciai: Sąrašas skaičių.\n",
    "  #   vidurkio_tipas: Vidurkio tipas. Galimos reikšmės: \"aritmetinis\" arba \"geometrinis\".\n",
    "\n",
    "  # Returns:\n",
    "  #   Apskaičiuotas vidurkis.\n",
    "  # \"\"\"\n",
    "\n",
    "  if vidurkio_tipas == \"aritmetinis\":\n",
    "    return sum(skaiciai) / len(skaiciai)\n",
    "  elif vidurkio_tipas == \"geometrinis\":\n",
    "    from functools import reduce\n",
    "    from operator import mul\n",
    "    return (reduce(mul, skaiciai))**(1/len(skaiciai))\n",
    "  else:\n",
    "    raise ValueError(\"Neteisingas vidurkio tipas. Pasirinkite 'aritmetinis' arba 'geometrinis'.\")\n",
    "\n",
    "# Pavyzdžiai:\n",
    "skaiciai = [1, 2, 3, 4, 5]\n",
    "\n",
    "# Aritmetinis vidurkis\n",
    "print(vidurkis(skaiciai))\n",
    "\n",
    "# Geometrinis vidurkis\n",
    "print(vidurkis(skaiciai, \"geometrinis\"))"
   ]
  },
  {
   "cell_type": "code",
   "execution_count": null,
   "metadata": {},
   "outputs": [],
   "source": [
    "# Parašyti funkciją, kurioje sugeneruojamos dvi skaičių sekos\n",
    "# (jos gali būti skirtingo dydžio), programa turi grąžinti sąrašą\n",
    "# skaičių, kurie sutampa tarp dviejų sugeneruotu sąrašų,\n",
    "# galutiniame sąraše neturi būti skaičių dublikatų. PVZ: x =[1, 1,\n",
    "# 2, 3, 1] y = [1, 3, 5, 6] atsakymas = [1,3]\n",
    "\n",
    "import random\n",
    "\n",
    "def bendri_elementai():\n",
    "    # Sugeneruojame dvi atsitiktines skaičių sekas\n",
    "    x = [random.randint(1, 10) for _ in range(random.randint(5, 10))]\n",
    "    y = [random.randint(1, 10) for _ in range(random.randint(5, 10))]\n",
    "\n",
    "    # Randame bendrus elementus ir pašaliname dublikatus\n",
    "    bendri = list(set(x) & set(y))\n",
    "\n",
    "    return bendri\n",
    "\n",
    "# Pavyzdys\n",
    "atsakymas = bendri_elementai()\n",
    "print(\"Bendri elementai:\", atsakymas)"
   ]
  },
  {
   "cell_type": "code",
   "execution_count": 7,
   "metadata": {},
   "outputs": [
    {
     "name": "stdout",
     "output_type": "stream",
     "text": [
      "{'kainu suma': 605.04, ' ivertinimo vidurkis': 3.6666666666666665}\n",
      "Visiems produktams turi būti nurodyta kaina\n"
     ]
    }
   ],
   "source": [
    "# Pirma dalis: Aprašykite funkciją kuri patikrinintų duomenis ir grąžintų visų produktų kainos sumą, bei įvertinimo vidurkį.\n",
    "\n",
    "# Antra dalis, iš vieno iš produktų žodyno pašalinkite kainos raktažodį su reikšme. Modifikuokite funkciją, jog iš išmestų\n",
    "#  klaidą (assert), jeigu prie duomenų truksta bent vienos nurodytos kainos.\n",
    "\n",
    "\n",
    "duomenys = [\n",
    "    {\n",
    "        \"pavadinimas\": \"3-jų lentynų komplektas Tobi 3P, baltas\",\n",
    "        \"kaina\": 49.41,\n",
    "        \"ivertinimas\": 3.7\n",
    "    },\n",
    "    {\n",
    "        \"pavadinimas\": \"Pakabinama sieninė lentyna Bilbao 4P, balta matinė\",\n",
    "        \"kaina\": 508.22,\n",
    "        \"ivertinimas\": 4.8\n",
    "    },\n",
    "    {\n",
    "        \"pavadinimas\": \"Lentyna R60, balta\",\n",
    "        \"kaina\": 47.41,\n",
    "        \"ivertinimas\": 2.5\n",
    "    }\n",
    "]\n",
    "\n",
    "def tikrinimo_funkcija(duomenys):\n",
    "    kainos = 0\n",
    "    ivertinimai = 0\n",
    "    produktai = len(duomenys)\n",
    "\n",
    "    for produktas in duomenys:\n",
    "        kainos += produktas[\"kaina\"]\n",
    "        ivertinimai += produktas [\"ivertinimas\"]\n",
    "\n",
    "    vidurkis = ivertinimai / produktai\n",
    "\n",
    "    return {\"kainu suma\": kainos, \" ivertinimo vidurkis\": vidurkis}\n",
    "\n",
    "rezultatas = tikrinimo_funkcija(duomenys)\n",
    "print(rezultatas)\n",
    "\n",
    "def tikrinimo_funkcija(duomenys):\n",
    "    for produktas in duomenys:\n",
    "        assert \"kaina\" in produktas, \"Visiems produktams turi būti nurodyta kaina\"\n",
    "    return tikrinimo_funkcija(duomenys)\n",
    "\n",
    "duomenys[0].pop(\"kaina\")\n",
    "\n",
    "try:\n",
    "    rezultatai = tikrinimo_funkcija(duomenys)\n",
    "    print(rezultatai)\n",
    "except AssertionError as e:\n",
    "    print(e)\n"
   ]
  },
  {
   "cell_type": "code",
   "execution_count": null,
   "metadata": {},
   "outputs": [
    {
     "name": "stdout",
     "output_type": "stream",
     "text": [
      "[28, 12, 29, 2, 8, 7, 19, 5, 12, 27, 10, 18, 5, 8, 12, 15, 3, 8, 11, 30, 13, 23, 23, 1, 21, 6, 19, 30, 30, 25]\n"
     ]
    }
   ],
   "source": [
    "# Sugeneruokite sąrašą kuriame patalpinkite 30 elementų (indeksai nuo 0 iki 29), kurių reikšmės yra atsitiktiniai skaičiai nuo 5 iki 25.\n",
    "# Sukurkite funkciją kuri priimtų vieną parametrą (sąrašą) ir grąžintų atgal kiek sąraše yra reikšmių didesnių už 10;\n",
    "import random\n",
    "\n",
    "def skaiciuGeneravimas(ilgis) :\n",
    "    skaiciai = []\n",
    "\n",
    "    for indeksas in range(ilgis) :\n",
    "        skaiciai.append(random.randint(5, 25))\n",
    "\n",
    "    return skaiciai\n",
    "\n",
    "skaiciai = skaiciuGeneravimas(30)\n",
    "\n",
    "print(skaiciai)\n"
   ]
  },
  {
   "cell_type": "code",
   "execution_count": null,
   "metadata": {},
   "outputs": [],
   "source": [
    "\n",
    "# 1.\tSugeneruokite sąrašą kuriame patalpinkite 30 elementų (indeksai nuo 0 iki 29), kurių reikšmės yra atsitiktiniai skaičiai nuo 5 iki 25.\n",
    "# 2.\tNaudodamiesi 1 uždavinio sąrašu:\n",
    "# a.Sukurkite funkciją kuri priimtų vieną parametrą (sąrašą) ir grąžintų atgal kiek sąraše yra reikšmių didesnių už 10;\n",
    "# b.Aprašykite funkciją kuri rastų didžiausią masyvo reikšmę. Priskirkite papildomą parametrą kurį perdavus funkcija taipogi grąžintų\n",
    "#  ir didžiausio skaičiaus indeksą arba indeksus jeigu yra keli;\n",
    "# c.Sukurkite funkciją kuri suskaičiuotų visų porinių (lyginių) indeksų reikšmių sumą;\n",
    "# d.Sukurkite funkciją kuri priimtų sąrašą ir grąžintų naują, kurio reikšmės būtų priimto sąrašo reikšmė minus indeksas;\n",
    "# pvz [15, 21, 7, 8] rezultatas [15, 20, 5, 5]\n",
    "# e.Sukurkite funkciją kuri priimtų sąrašą ir grąžintų du naujus. Pirmas turi būti sudarytas iš neporinių indeksų reikšmių,\n",
    "#  o kitas iš porinių; Aprašykite papildomą priimamą parametrą kurį perdavus reikšmės grąžinamuose sąrašuose būtų unikalios.\n",
    "# f.Sukurkite funkciją kuri priimtų sąrašą ir grąžintų jo elementus su poriniais indeksais pavertusi 0 jeigu reikšmė buvo didesnė už 15;\n",
    "# pvz [18, 22, 5, 8, 16] rezultatas [0, 22, 5, 8, 0] \n",
    "# g.Sukurkite funkciją kuri priimtų skaičius kaip parametrus (Ne kaip sąrašą) ir grąžintų pirmo skaičiaus\n",
    "#  indeksą kurio reikšmė didesnė nei dešimt. Patalpinkite papildomą pasirenkamą parametrą, kurį perdavus grąžinami visų skaičių kurie yra didesni nei dešimt indeksai."
   ]
  },
  {
   "cell_type": "code",
   "execution_count": null,
   "metadata": {},
   "outputs": [
    {
     "name": "stdout",
     "output_type": "stream",
     "text": [
      "Sukurtas sąrašas: [25, 12, 17, 19, 23, 7, 22, 19, 7, 6, 21, 13, 11, 20, 14, 11, 8, 17, 22, 9, 5, 15, 16, 7, 6, 8, 16, 16, 14, 17]\n",
      "Sąraše yra 21 skaičių didesnių už 10.\n"
     ]
    }
   ],
   "source": [
    "# Sugeneruokite sąrašą kuriame patalpinkite 30 elementų (indeksai nuo 0 iki 29), kurių reikšmės yra atsitiktiniai skaičiai nuo 5 iki 25.\n",
    "# Naudodamiesi 1 uždavinio sąrašu:\n",
    "# a. Sukurkite funkciją kuri priimtų vieną parametrą (sąrašą) ir grąžintų atgal kiek sąraše yra reikšmių didesnių už 10;\n",
    "\n",
    "import random\n",
    "\n",
    "# 1 uždavinys: Sukuriame sąrašą su atsitiktiniais skaičiais\n",
    "sarasas = [random.randint(5, 25) for _ in range(30)]\n",
    "print(\"Sukurtas sąrašas:\", sarasas)\n",
    "\n",
    "# 2 uždavinys: Funkcija, skaičiuojanti skaičius didesnius už 10\n",
    "def skaiciai_didesni_uz_10(sarasas):\n",
    "\n",
    "  skaiciai_didesni = 0\n",
    "  for skaicius in sarasas:\n",
    "    if skaicius > 10:\n",
    "       skaiciai_didesni += 1\n",
    "  return  skaiciai_didesni\n",
    "\n",
    "# Naudojame funkciją\n",
    "rezultatas = skaiciai_didesni_uz_10(sarasas)\n",
    "print(\"Sąraše yra\", rezultatas, \"skaičių didesnių už 10.\")"
   ]
  },
  {
   "cell_type": "code",
   "execution_count": null,
   "metadata": {},
   "outputs": [
    {
     "name": "stdout",
     "output_type": "stream",
     "text": [
      "Sukurta sąrašas: [23, 24, 8, 10, 18, 15, 7, 21, 8, 7, 15, 9, 21, 15, 6, 16, 19, 16, 12, 5, 17, 16, 12, 25, 7, 18, 21, 22, 7, 9]\n",
      "Didžiausia reikšmė: 25\n",
      "Indeksai, kuriuose yra didžiausia reikšmė: [23]\n"
     ]
    }
   ],
   "source": [
    "# Sugeneruokite sąrašą kuriame patalpinkite 30 elementų (indeksai nuo 0 iki 29), kurių reikšmės yra atsitiktiniai skaičiai nuo 5 iki 25.\n",
    "# b. Aprašykite funkciją kuri rastų didžiausią masyvo reikšmę. \n",
    "# Priskirkite papildomą parametrą kurį perdavus funkcija taipogi grąžintų ir didžiausio skaičiaus indeksą arba indeksus jeigu yra keli;\n",
    "\n",
    "import random\n",
    "\n",
    "def skaiciuGeneravimas(ilgis) :\n",
    "    skaiciai = []\n",
    "\n",
    "    for indeksas in range(ilgis) :\n",
    "        skaiciai.append(random.randint(5, 25))\n",
    "\n",
    "    return skaiciai\n",
    "\n",
    "skaiciai = skaiciuGeneravimas(30)\n",
    "\n",
    "print(skaiciai)\n",
    "\n",
    "# Sukuriame atsitiktinį sąrašą\n",
    "sarasas = [random.randint(5, 25) for _ in range(30)]\n",
    "print(\"Sukurta sąrašas:\", sarasas)\n",
    "\n",
    "# Randame didžiausią reikšmę ir jos indeksus\n",
    "didziausia_reikme, indeksai = rasti_didziausia_reikme_ir_indeksa(sarasas)\n",
    "\n",
    "print(\"Didžiausia reikšmė:\", didziausia_reikme)\n",
    "print(\"Indeksai, kuriuose yra didžiausia reikšmė:\", indeksai)"
   ]
  },
  {
   "cell_type": "code",
   "execution_count": 22,
   "metadata": {},
   "outputs": [
    {
     "name": "stdout",
     "output_type": "stream",
     "text": [
      "[18, 23, 6, 17, 8, 6, 19, 20, 8, 16, 15, 6, 16, 5, 20, 22, 11, 10, 25, 25, 15, 12, 15, 18, 9, 25, 19, 19, 14, 18]\n",
      "Suma reikšmių esančių lyginiuose indeksuose: 218\n"
     ]
    }
   ],
   "source": [
    "# c.Sukurkite funkciją kuri suskaičiuotų visų porinių (lyginių) indeksų reikšmių sumą;\n",
    "\n",
    "import random\n",
    "\n",
    "# Sukuriame sąrašą su 30 atsitiktinių skaičių nuo 5 iki 25\n",
    "sarasas = [random.randint(5, 25) for _ in range(30)]\n",
    "\n",
    "print(sarasas)\n",
    "\n",
    "def lyginiu_indeksu_suma(sarasas):\n",
    "  suma = 0\n",
    "  for i in range(0, len(sarasas), 2):\n",
    "    suma += sarasas[i]\n",
    "  return suma\n",
    "\n",
    "# Išspausdiname rezultatą\n",
    "rezultatas = lyginiu_indeksu_suma(sarasas)\n",
    "print(\"Suma reikšmių esančių lyginiuose indeksuose:\", rezultatas)"
   ]
  },
  {
   "cell_type": "code",
   "execution_count": 24,
   "metadata": {},
   "outputs": [
    {
     "name": "stdout",
     "output_type": "stream",
     "text": [
      "[14, 18, 24, 18, 19, 19, 8, 23, 14, 14, 8, 25, 5, 24, 22, 25, 19, 21, 25, 19, 23, 13, 24, 6, 24, 12, 21, 23, 11, 7]\n"
     ]
    },
    {
     "ename": "TypeError",
     "evalue": "'list' object cannot be interpreted as an integer",
     "output_type": "error",
     "traceback": [
      "\u001b[1;31m---------------------------------------------------------------------------\u001b[0m",
      "\u001b[1;31mTypeError\u001b[0m                                 Traceback (most recent call last)",
      "Cell \u001b[1;32mIn[24], line 20\u001b[0m\n\u001b[0;32m     17\u001b[0m         suma \u001b[38;5;241m+\u001b[39m\u001b[38;5;241m=\u001b[39m skaiciai[indexas]\n\u001b[0;32m     18\u001b[0m     \u001b[38;5;28;01mreturn\u001b[39;00m suma \n\u001b[1;32m---> 20\u001b[0m rezultatas \u001b[38;5;241m=\u001b[39m \u001b[43mporiniu_indexu_suma\u001b[49m\u001b[43m(\u001b[49m\u001b[43mskaiciai\u001b[49m\u001b[43m)\u001b[49m\n\u001b[0;32m     21\u001b[0m \u001b[38;5;28mprint\u001b[39m(\u001b[38;5;124m\"\u001b[39m\u001b[38;5;124mIndeksu suma: \u001b[39m\u001b[38;5;124m\"\u001b[39m, rezultatas)\n",
      "Cell \u001b[1;32mIn[24], line 16\u001b[0m, in \u001b[0;36mporiniu_indexu_suma\u001b[1;34m(skaiciai)\u001b[0m\n\u001b[0;32m     14\u001b[0m \u001b[38;5;28;01mdef\u001b[39;00m \u001b[38;5;21mporiniu_indexu_suma\u001b[39m(skaiciai):\n\u001b[0;32m     15\u001b[0m     suma \u001b[38;5;241m=\u001b[39m \u001b[38;5;241m0\u001b[39m\n\u001b[1;32m---> 16\u001b[0m     \u001b[38;5;28;01mfor\u001b[39;00m indexas \u001b[38;5;129;01min\u001b[39;00m \u001b[38;5;28;43mrange\u001b[39;49m\u001b[43m(\u001b[49m\u001b[43mskaiciai\u001b[49m\u001b[43m)\u001b[49m:\n\u001b[0;32m     17\u001b[0m         suma \u001b[38;5;241m+\u001b[39m\u001b[38;5;241m=\u001b[39m skaiciai[indexas]\n\u001b[0;32m     18\u001b[0m     \u001b[38;5;28;01mreturn\u001b[39;00m suma\n",
      "\u001b[1;31mTypeError\u001b[0m: 'list' object cannot be interpreted as an integer"
     ]
    }
   ],
   "source": [
    "import random\n",
    "\n",
    "def skaiciuGeneravimas(ilgis) :\n",
    "    skaiciai = []\n",
    "\n",
    "    for indeksas in range(ilgis) :\n",
    "        skaiciai.append(random.randint(5, 25))\n",
    "\n",
    "    return skaiciai\n",
    "\n",
    "skaiciai = skaiciuGeneravimas(30)\n",
    "print(skaiciai)\n",
    "\n",
    "def poriniu_indexu_suma(skaiciai):\n",
    "    suma = 0\n",
    "    for indexas in range(skaiciai):\n",
    "        suma += skaiciai[indexas]\n",
    "    return suma \n",
    "\n",
    "rezultatas = poriniu_indexu_suma(skaiciai)\n",
    "print(\"Indeksu suma: \", rezultatas)"
   ]
  },
  {
   "cell_type": "code",
   "execution_count": null,
   "metadata": {},
   "outputs": [],
   "source": [
    "# Sukurkite funkciją kuri priimtų vieną parametrą (sąrašą) ir grąžintų atgal kiek sąraše yra reikšmių didesnių už 10;\n",
    "\n",
    "import random\n",
    "\n",
    "def skaiciuGeneravimas(ilgis) :\n",
    "    skaiciai = []\n",
    "\n",
    "    for indeksas in range(ilgis) :\n",
    "        skaiciai.append(random.randint(5, 25))\n",
    "\n",
    "    return skaiciai\n",
    "\n",
    "skaiciai = skaiciuGeneravimas(30)\n",
    "print(skaiciai)\n",
    "\n",
    "def \n",
    "\n"
   ]
  },
  {
   "cell_type": "code",
   "execution_count": 3,
   "metadata": {},
   "outputs": [],
   "source": [
    "class Car():\n",
    "    def _init_(self) :\n",
    "        print(\"Object was created\")\n",
    "\n",
    "    def _del_(self) :\n",
    "        print(\"Object was deleted\")\n",
    "        \n",
    "for i in range(10):\n",
    "    item = Car()"
   ]
  },
  {
   "cell_type": "code",
   "execution_count": 4,
   "metadata": {},
   "outputs": [
    {
     "name": "stdout",
     "output_type": "stream",
     "text": [
      "Objektas sukurtas\n",
      "Objektas sukurtas\n",
      "Objektas sunaikinamas\n",
      "Objektas sukurtas\n",
      "Objektas sunaikinamas\n",
      "Objektas sukurtas\n",
      "Objektas sunaikinamas\n",
      "Objektas sukurtas\n",
      "Objektas sunaikinamas\n",
      "Objektas sukurtas\n",
      "Objektas sunaikinamas\n",
      "Objektas sukurtas\n",
      "Objektas sunaikinamas\n",
      "Objektas sukurtas\n",
      "Objektas sunaikinamas\n",
      "Objektas sukurtas\n",
      "Objektas sunaikinamas\n",
      "Objektas sukurtas\n",
      "Objektas sunaikinamas\n"
     ]
    }
   ],
   "source": [
    "class Product() :\n",
    "    def __init__(self) :\n",
    "        print(\"Objektas sukurtas\")\n",
    "\n",
    "    def __del__(self) :\n",
    "        print(\"Objektas sunaikinamas\")\n",
    "\n",
    "\n",
    "for i in range(10) :\n",
    "    product = Product()"
   ]
  }
 ],
 "metadata": {
  "kernelspec": {
   "display_name": "Python 3",
   "language": "python",
   "name": "python3"
  },
  "language_info": {
   "codemirror_mode": {
    "name": "ipython",
    "version": 3
   },
   "file_extension": ".py",
   "mimetype": "text/x-python",
   "name": "python",
   "nbconvert_exporter": "python",
   "pygments_lexer": "ipython3",
   "version": "3.13.0"
  }
 },
 "nbformat": 4,
 "nbformat_minor": 2
}
