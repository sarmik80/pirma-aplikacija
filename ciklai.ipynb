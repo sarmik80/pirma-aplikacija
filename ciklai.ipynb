{
  "cells": [
    {
      "cell_type": "code",
      "execution_count": null,
      "metadata": {},
      "outputs": [],
      "source": [
        "# Sugeneruokite 300 atsitiktinių skaičių nuo 0 iki 300, \n",
        "# atspausdinkite juos atskirtus tarpais ir suskaičiuokite kiek tarp jų yra didesnių už 150.  \n",
        "# Skaičiai didesni nei 275 turi būti atspausdinti skliausteliuose” [ ] “.\n",
        "\n",
        "import random\n",
        "\n",
        "atsitiktiniai_skaiciai = []\n",
        "didesni_uz_150 = 0\n",
        "\n",
        "for _ in range(300):\n",
        "    skaicius = random.randint(0, 300)\n",
        "    atsitiktiniai_skaiciai.append(skaicius)\n",
        "    if skaicius > 150:\n",
        "        didesni_uz_150 += 1\n",
        "\n",
        "for skaicius in atsitiktiniai_skaiciai:\n",
        "    if skaicius > 275:\n",
        "        print(f\"[{skaicius}]\", end=\" \")\n",
        "    else:\n",
        "        print(skaicius, end=\" \")\n",
        "\n",
        "print(f\"\\nSkaičių, didesnių už 150 yra: {didesni_uz_150}\")"
      ]
    },
    {
      "cell_type": "code",
      "execution_count": null,
      "metadata": {},
      "outputs": [],
      "source": [
        "# Vienoje eilutėje atspausdinkite visus skaičius nuo 1 iki 3000, kurie dalijasi iš 77 be liekanos. \n",
        "# Skaičius atskirkite kableliais. Po paskutinio skaičiaus kablelio neturi būti.\n",
        "\n",
        "for skaicius in range(1, 3000):\n",
        "    if skaicius % 77 == 0:\n",
        "        print(skaicius, end = \",\")"
      ]
    },
    {
      "cell_type": "code",
      "execution_count": 3,
      "metadata": {},
      "outputs": [
        {
          "name": "stdout",
          "output_type": "stream",
          "text": [
            "@@@@@@@@@\n",
            "@       @\n",
            "@       @\n",
            "@       @\n",
            "@       @\n",
            "@       @\n",
            "@       @\n",
            "@       @\n",
            "@@@@@@@@@\n"
          ]
        }
      ],
      "source": [
        "# simbolis = input(\"iveskite norima simboli : \")\n",
        "def piešti_kvadratą(simbolis, kraštinė):\n",
        "\n",
        "  # Viršutinė kraštinė\n",
        "  print(simbolis * kraštinė)\n",
        "\n",
        "  # Šoninės kraštinės\n",
        "  for _ in range(kraštinė - 2):\n",
        "    print(simbolis + \" \" * (kraštinė - 2) + simbolis)\n",
        "\n",
        "  # Apatinė kraštinė\n",
        "  print(simbolis * kraštinė)\n",
        "\n",
        "# Gauname vartotojo įvestį\n",
        "simbolis = input(\"Įveskite simbolį kvadratui: \")\n",
        "kraštinė = int(input(\"Įveskite kvadrato kraštinės ilgį: \"))\n",
        "\n",
        "# Tikriname, ar kraštinės ilgis teigiamas\n",
        "if kraštinė <= 0:\n",
        "  print(\"Kraštinės ilgis turi būti teigiamas skaičius.\")\n",
        "else:\n",
        "  # Kviečiame funkciją, kad nupiešti kvadratą\n",
        "  piešti_kvadratą(simbolis, kraštinė)\n"
      ]
    },
    {
      "cell_type": "code",
      "execution_count": 14,
      "metadata": {},
      "outputs": [],
      "source": [
        "# Nupieškite kvadratą iš vartotojo įvedamo simbolio, kurio kraštinių kiekį taipogi leiskite įvesti vartotojui.\n",
        "\n",
        "\n",
        "\n",
        "\n"
      ]
    }
  ],
  "metadata": {
    "colab": {
      "provenance": []
    },
    "kernelspec": {
      "display_name": "Python 3",
      "name": "python3"
    },
    "language_info": {
      "codemirror_mode": {
        "name": "ipython",
        "version": 3
      },
      "file_extension": ".py",
      "mimetype": "text/x-python",
      "name": "python",
      "nbconvert_exporter": "python",
      "pygments_lexer": "ipython3",
      "version": "3.13.0"
    }
  },
  "nbformat": 4,
  "nbformat_minor": 0
}
