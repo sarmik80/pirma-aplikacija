{
 "cells": [
  {
   "cell_type": "code",
   "execution_count": null,
   "metadata": {},
   "outputs": [
    {
     "name": "stdout",
     "output_type": "stream",
     "text": [
      "{1, 2, 3, 4, 5, 6, 'b', 'a'}\n"
     ]
    }
   ],
   "source": [
    "# raskite sąjungą šių rinkinių;\n",
    "\n",
    "a_set={1,2,3,4, 'a'}\n",
    "b_set={1,2,3,5,6,'b'}\n",
    "\n",
    "c_set = a_set.union(b_set)\n",
    "print(c_set)"
   ]
  },
  {
   "cell_type": "code",
   "execution_count": 4,
   "metadata": {},
   "outputs": [
    {
     "name": "stdout",
     "output_type": "stream",
     "text": [
      "{'a', 4}\n"
     ]
    }
   ],
   "source": [
    "# raskite, kokiais elementais skiriasi a_set nuo b_set?\n",
    "\n",
    "a_set={1,2,3,4,'a'}\n",
    "b_set={1,2,3,5,6,'b'}\n",
    "\n",
    "c_set = a_set.difference(b_set)\n",
    "print(c_set)"
   ]
  },
  {
   "cell_type": "code",
   "execution_count": 8,
   "metadata": {},
   "outputs": [
    {
     "name": "stdout",
     "output_type": "stream",
     "text": [
      "{1, 2, 3}\n"
     ]
    }
   ],
   "source": [
    "# raskite, kokie elementai buvo bendri abiems rinkiniams?\n",
    "\n",
    "a_set={1,2,3,4, 'a'}\n",
    "b_set={1,2,3,5,6,'b'}\n",
    "\n",
    "c_set = a_set.intersection(b_set)\n",
    "print(c_set)"
   ]
  },
  {
   "cell_type": "code",
   "execution_count": 10,
   "metadata": {},
   "outputs": [
    {
     "name": "stdout",
     "output_type": "stream",
     "text": [
      "{4, 'a'}\n"
     ]
    }
   ],
   "source": [
    "# pašalinkite bendrus elementus tarp a_set ir b_set, likusius\n",
    "# elementus išspausdinkite.\n",
    "a_set={1,2,3,4, 'a'}\n",
    "b_set={1,2,3,5,6,'b'}\n",
    "\n",
    "c_set = a_set.difference_update(b_set)\n",
    "\n",
    "print(a_set)\n"
   ]
  },
  {
   "cell_type": "code",
   "execution_count": 11,
   "metadata": {},
   "outputs": [
    {
     "name": "stdout",
     "output_type": "stream",
     "text": [
      "[1, 2, 3, 4, 5, 8]\n"
     ]
    }
   ],
   "source": [
    "# • Pašalinkite pasikartojančius elementus iš šio l sąrašo.\n",
    "\n",
    "l = [1,1,2,2,3,4,5,5,5,8,8,1,2]\n",
    "l = list(dict.fromkeys(l))\n",
    "print(l)\n"
   ]
  },
  {
   "cell_type": "code",
   "execution_count": null,
   "metadata": {},
   "outputs": [],
   "source": [
    "# Paskaičiuoti pelną pardavus visas prekes. Informacija apie kainą\n",
    "# ir kiekius yra pateikiama kaip žodynai (dictionary):\n",
    "d1 = {\"cost_price\": 32.67,\n",
    "\"sell_price\": 45.00,\n",
    "\"inventory\": 1200}\n",
    "d2 = {\"cost_price\": 225.89,\n",
    "\"sell_price\": 550.00,\n",
    "\"inventory\": 100}\n",
    "d3 = {\"cost_price\": 2.77,\n",
    "\"sell_price\": 7.95,\n",
    "\"inventory\": 8500}\n",
    "\n",
    "D"
   ]
  }
 ],
 "metadata": {
  "kernelspec": {
   "display_name": "Python 3",
   "language": "python",
   "name": "python3"
  },
  "language_info": {
   "codemirror_mode": {
    "name": "ipython",
    "version": 3
   },
   "file_extension": ".py",
   "mimetype": "text/x-python",
   "name": "python",
   "nbconvert_exporter": "python",
   "pygments_lexer": "ipython3",
   "version": "3.13.0"
  }
 },
 "nbformat": 4,
 "nbformat_minor": 2
}
