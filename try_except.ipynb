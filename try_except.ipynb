{
 "cells": [
  {
   "cell_type": "code",
   "execution_count": null,
   "metadata": {},
   "outputs": [],
   "source": [
    "import random \n",
    "\n",
    "A = int(input(\"Iveskite skaiciu A: \"))\n",
    "B = int(input(\"Iveskite skaiciu B: \"))\n",
    "veiksmas = str(input(\"koki veiksma norite atlikti: ?\",  \"+\", \"-\", \"*\", \"/\"))\n",
    "\n",
    "print(A)\n",
    "print(B)\n",
    "print(veiksmas)\n",
    "\n",
    "try :\n",
    "    print(veiksmas)\n",
    "except ZeroDivisionError as klaida : \n",
    "    print(\"Dalyba is nulio negalima\")"
   ]
  },
  {
   "cell_type": "code",
   "execution_count": null,
   "metadata": {},
   "outputs": [],
   "source": []
  },
  {
   "cell_type": "markdown",
   "metadata": {},
   "source": []
  }
 ],
 "metadata": {
  "kernelspec": {
   "display_name": "Python 3",
   "language": "python",
   "name": "python3"
  },
  "language_info": {
   "codemirror_mode": {
    "name": "ipython",
    "version": 3
   },
   "file_extension": ".py",
   "mimetype": "text/x-python",
   "name": "python",
   "nbconvert_exporter": "python",
   "pygments_lexer": "ipython3",
   "version": "3.13.0"
  }
 },
 "nbformat": 4,
 "nbformat_minor": 2
}
