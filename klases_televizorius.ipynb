{
 "cells": [
  {
   "cell_type": "code",
   "execution_count": 1,
   "metadata": {},
   "outputs": [
    {
     "name": "stdout",
     "output_type": "stream",
     "text": [
      "Televizorius 'Sony' šiuo metu rodo 8 kanalą. Garso lygis 53.\n",
      "Televizorius 'Sony' šiuo metu rodo 1 kanalą. Garso lygis 53.\n",
      "Televizorius 'Sony' šiuo metu rodo 1 kanalą. Garso lygis 50.\n"
     ]
    }
   ],
   "source": [
    "class Televizorius:\n",
    "    def __init__(self, gamintojas):\n",
    "        self.gamintojas = gamintojas\n",
    "        self.kanalas = 1\n",
    "        self.garsas = 50\n",
    "\n",
    "    def garsas_aukstyn(self):\n",
    "        if self.garsas < 100:\n",
    "            self.garsas += 1\n",
    "\n",
    "    def garsas_zemyn(self):\n",
    "        if self.garsas > 0:\n",
    "            self.garsas -= 1\n",
    "\n",
    "    def keisti_kanala(self, kanalas):\n",
    "        if 1 <= kanalas <= 50:\n",
    "            self.kanalas = kanalas\n",
    "        else:\n",
    "            self.kanalas = 1\n",
    "\n",
    "    def gamykliniai_parametrai(self):\n",
    "        self.kanalas = 1\n",
    "        self.garsas = 50\n",
    "\n",
    "    def informacija(self):\n",
    "        return f\"Televizorius '{self.gamintojas}' šiuo metu rodo {self.kanalas} kanalą. Garso lygis {self.garsas}.\"\n",
    "\n",
    "# Sukuriame televizoriaus objektą\n",
    "tv = Televizorius(\"Sony\")\n",
    "\n",
    "# Padidiname garsą kelis kartus\n",
    "tv.garsas_aukstyn()\n",
    "tv.garsas_aukstyn()\n",
    "tv.garsas_aukstyn()\n",
    "\n",
    "# Pakeičiame kanalą\n",
    "tv.keisti_kanala(8)\n",
    "\n",
    "# Išvedame informaciją apie televizorių\n",
    "print(tv.informacija())  # Output: Televizorius 'Sony' šiuo metu rodo 8 kanalą. Garso lygis 53.\n",
    "\n",
    "# Pakeičiame kanalą į didesnį nei 50\n",
    "tv.keisti_kanala(60)\n",
    "\n",
    "# Išvedame informaciją apie televizorių\n",
    "print(tv.informacija())  # Output: Televizorius 'Sony' šiuo metu rodo 1 kanalą. Garso lygis 53.\n",
    "\n",
    "# Atstatome gamyklinius parametrus\n",
    "tv.gamykliniai_parametrai()\n",
    "\n",
    "# Išvedame informaciją apie televizorių\n",
    "print(tv.informacija())  # Output: Televizorius 'Sony' šiuo metu rodo 1 kanalą. Garso lygis 50."
   ]
  }
 ],
 "metadata": {
  "kernelspec": {
   "display_name": "Python 3",
   "language": "python",
   "name": "python3"
  },
  "language_info": {
   "codemirror_mode": {
    "name": "ipython",
    "version": 3
   },
   "file_extension": ".py",
   "mimetype": "text/x-python",
   "name": "python",
   "nbconvert_exporter": "python",
   "pygments_lexer": "ipython3",
   "version": "3.13.0"
  }
 },
 "nbformat": 4,
 "nbformat_minor": 2
}
